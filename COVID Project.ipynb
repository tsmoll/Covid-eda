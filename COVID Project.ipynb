{
 "cells": [
  {
   "cell_type": "markdown",
   "id": "a2ee9807",
   "metadata": {},
   "source": [
    "# COVID Data Analysis Project"
   ]
  },
  {
   "cell_type": "code",
   "execution_count": null,
   "id": "daf78451",
   "metadata": {},
   "outputs": [],
   "source": [
    "import pandas as pd\n",
    "import numpy as np\n",
    "import seaborn as sns\n",
    "import matplotlib as plt"
   ]
  },
  {
   "cell_type": "code",
   "execution_count": null,
   "id": "94bc0e09",
   "metadata": {},
   "outputs": [],
   "source": [
    "data = pd.read_csv(\"C:/Users/E7270/OneDrive/Desktop/PortfolioCovidDeaths.csv\")"
   ]
  },
  {
   "cell_type": "code",
   "execution_count": null,
   "id": "a5f07974",
   "metadata": {},
   "outputs": [],
   "source": [
    "data.head()"
   ]
  },
  {
   "cell_type": "code",
   "execution_count": null,
   "id": "aedac758",
   "metadata": {},
   "outputs": [],
   "source": [
    "data.columns"
   ]
  },
  {
   "cell_type": "code",
   "execution_count": null,
   "id": "5dd52872",
   "metadata": {},
   "outputs": [],
   "source": [
    "data.tail()"
   ]
  },
  {
   "cell_type": "code",
   "execution_count": null,
   "id": "2a45bc7e",
   "metadata": {},
   "outputs": [],
   "source": [
    "data.describe()"
   ]
  },
  {
   "cell_type": "code",
   "execution_count": null,
   "id": "b537c88b",
   "metadata": {},
   "outputs": [],
   "source": [
    "data.isnull().sum()"
   ]
  },
  {
   "cell_type": "markdown",
   "id": "06fd1780",
   "metadata": {},
   "source": [
    "# Relating the Variables"
   ]
  },
  {
   "cell_type": "code",
   "execution_count": null,
   "id": "9ef2de5c",
   "metadata": {},
   "outputs": [],
   "source": [
    "sns.relplot(x=\"new_cases\", y=\"hosp_patients_per_million\", data=data)"
   ]
  },
  {
   "cell_type": "code",
   "execution_count": null,
   "id": "f516261f",
   "metadata": {},
   "outputs": [],
   "source": [
    "sns.relplot(x=\"new_cases_smoothed\", y=\"total_cases\", hue = \"reproduction_rate\". data=data)"
   ]
  },
  {
   "cell_type": "code",
   "execution_count": null,
   "id": "da37e239",
   "metadata": {},
   "outputs": [],
   "source": [
    "sns.relplot(x=\"new_deaths_smoothed\", y=\"total_cases\", data=data)"
   ]
  },
  {
   "cell_type": "code",
   "execution_count": null,
   "id": "2ecb1d58",
   "metadata": {},
   "outputs": [],
   "source": [
    "sns.relplot(x=\"total_cases\", y=\"total_deaths\", data=data)"
   ]
  },
  {
   "cell_type": "code",
   "execution_count": null,
   "id": "fc408030",
   "metadata": {},
   "outputs": [],
   "source": [
    "sns.relplot(x=\"icu_patients\", y=\"total_deaths\", data=data)"
   ]
  },
  {
   "cell_type": "code",
   "execution_count": null,
   "id": "0605091a",
   "metadata": {},
   "outputs": [],
   "source": [
    "sns.lmplot(data=data, x=\"total_deaths\", y=\"total_cases\")"
   ]
  },
  {
   "cell_type": "code",
   "execution_count": null,
   "id": "48caac9b",
   "metadata": {},
   "outputs": [],
   "source": [
    "sns.lmplot(data=data, x=\"total_deaths\", y=\"new_deaths\")"
   ]
  },
  {
   "cell_type": "code",
   "execution_count": null,
   "id": "4076cb05",
   "metadata": {},
   "outputs": [],
   "source": [
    "sns.lmplot(data=data, x=\"total_cases_per_million\", y=\"new_deaths\")"
   ]
  },
  {
   "cell_type": "code",
   "execution_count": null,
   "id": "262d34fe",
   "metadata": {},
   "outputs": [],
   "source": [
    "sns.pairplot(data)"
   ]
  },
  {
   "cell_type": "code",
   "execution_count": null,
   "id": "fd65571f",
   "metadata": {},
   "outputs": [],
   "source": []
  },
  {
   "cell_type": "code",
   "execution_count": null,
   "id": "54c7d0f9",
   "metadata": {},
   "outputs": [],
   "source": []
  }
 ],
 "metadata": {
  "kernelspec": {
   "display_name": "Python 3",
   "language": "python",
   "name": "python3"
  },
  "language_info": {
   "codemirror_mode": {
    "name": "ipython",
    "version": 3
   },
   "file_extension": ".py",
   "mimetype": "text/x-python",
   "name": "python",
   "nbconvert_exporter": "python",
   "pygments_lexer": "ipython3",
   "version": "3.8.8"
  }
 },
 "nbformat": 4,
 "nbformat_minor": 5
}
